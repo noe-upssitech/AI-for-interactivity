{
 "cells": [
  {
   "cell_type": "markdown",
   "metadata": {},
   "source": [
    "# TP - \"Fusion de Données\"\n",
    "\n",
    "On considère un espace quadrillé en $n$ lignes et $m$ colonnes. \n",
    "Des capteurs surveillent un navire present dans cette zone. \n",
    "L'objectif est de fusionner les informations fournies par les capteurs à l'aide de la règle de Dempster.\n",
    "\n",
    "Sur ce quadrillage, un ensemble de point (ou \"grille\") peut etre representé par un tableau de booleens \n",
    "à deux dimensions ( $n$ lignes et $m$ colonnes) \n",
    "\n",
    "Dans ce contexte,   une fonction de masse à $k$ elements focaux  decrite par deux listes: la liste $EF$ est celle des elements focaux de la bpa, la liste $p$ celle des poids correspondants\n",
    "\n",
    "Le programme python suivant implemente les concepts de grille et de fonction de masse (en particulier de fonction de masse generée par un capteur ligne, colonne ou point).\n",
    "\n",
    "\n",
    "\n"
   ]
  },
  {
   "cell_type": "code",
   "execution_count": 93,
   "metadata": {},
   "outputs": [],
   "source": [
    "import numpy as np\n",
    "import random \n",
    "import jsonpickle as json\n",
    "import matplotlib.pyplot as plt\n",
    "import matplotlib\n",
    "import sys"
   ]
  },
  {
   "cell_type": "code",
   "execution_count": 94,
   "metadata": {},
   "outputs": [],
   "source": [
    "## global : on traite de grilles n lignes m colonnes\n",
    "n = 15\n",
    "m = 10"
   ]
  },
  {
   "cell_type": "code",
   "execution_count": 95,
   "metadata": {},
   "outputs": [],
   "source": [
    "###  Creer des grilles particulieres\n",
    "\n",
    "# une grille de d lignes autour de la ligne l (soit 2d + 1 lignes)\n",
    "def lines(l,d):\n",
    "    a =  np.zeros((n,m), bool)\n",
    "    for i in range(max(l-d,0), min(l+d+1,n  )):\n",
    "        for  j in range(m):\n",
    "            a[i][j] = 1\n",
    "    return a\n",
    "\n",
    "# une grille de d colonnes autour de la colonne c (soit 2d + 1 colonnes)\n",
    "def cols(c,d):\n",
    "    a =  np.zeros((n, m), bool)\n",
    "    for i in range(n):\n",
    "        for j in range(max(c-d,0), min(c+d+1, m  )):\n",
    "            a[i][j] = 1\n",
    "    return a\n",
    "\n",
    "# une grille contenant un carre de points autour du point l,c (2d+1  x 2d+1 points)\n",
    "def autour(l,c,d):\n",
    "    a =  np.zeros((n,m), bool)\n",
    "    for i in range(max(l-d,0), min(l+d+1,n)):\n",
    "         for j in range(max(c-d,0), min(c+d+1, m)):\n",
    "            a[i][j] = 1\n",
    "    return a\n",
    "\n",
    "# une grille contant un carre de points autour du point l,c (2d+1  x 2d+1 points)\n",
    "def zone(l,c,droite,dessous):\n",
    "    a =  np.zeros((n,m), bool)\n",
    "    for i in range(l, min(l+dessous,n)):\n",
    "         for j in range(c, min(c+droite, m)):\n",
    "            a[i][j] = 1\n",
    "    return a\n",
    "\n",
    "\n",
    "# une bpa est donc une liste d'elements focaux et la liste des poids correspondants\n",
    "class bpa:\n",
    "    \n",
    "    def __init__(self): \n",
    "        self.EF=[]\n",
    "        self.p = []\n",
    "     \n",
    "    def toJSON(self):\n",
    "        return json.dumps(self, default=lambda o: o.__dict__, \n",
    "            sort_keys=True, indent=4)\n",
    "    \n",
    "    def size(self):\n",
    "        res = sys.getsizeof(self.p)\n",
    "        for i in range(len(self.EF)):\n",
    "            res = res + sys.getsizeof(self.EF[i])\n",
    "        return res\n",
    "        \n",
    "# des petits utilitaires pour la creation de bpa\n",
    "                          \n",
    "    def addLineEF(self,l,p0):\n",
    "        self.p.append(p0)\n",
    "        self.EF.append(lines(l,0))\n",
    "        \n",
    "    def addLinesEF(self,l, marge, p0):\n",
    "        self.p.append(p0)\n",
    "        self.EF.append(lines(l,marge))\n",
    "        \n",
    "    def addColEF(self,c,p0):\n",
    "        self.p.append(p0)\n",
    "        self.EF.append(cols(c,0))\n",
    "       \n",
    "        \n",
    "    def addColsEF(self,c, marge, p0):\n",
    "        self.p.append(p0)\n",
    "        self.EF.append(cols(c,marge))\n",
    "         \n",
    "        \n",
    "    def addAutourEF(self,l,c,d,p0):\n",
    "        self.p.append(p0)\n",
    "        self.EF.append(autour(l,c,d))\n",
    "        \n",
    "    def addFullGridEF(self,p0):\n",
    "        self.p.append(p0)\n",
    "        self.EF.append(np.ones((n, m), bool))\n",
    "        \n",
    "        \n",
    "    def addEmptyEF(self,p0):\n",
    "        self.p.append(p0)\n",
    "        self.EF.append(np.zeros((n, m), bool))\n",
    "          \n",
    "    def isCorrect(self):\n",
    "        s = 0\n",
    "        r = True\n",
    "        for x in range(len(self.p)): \n",
    "            s = s + self.p[x]\n",
    "            if (not(np.any(self.EF[x])) and self.p[x]>0):\n",
    "                print('poids non nul sur l enseble vide,EF numero'+ str(x))\n",
    "                print(self.EF[x])\n",
    "                print(self.p[x])\n",
    "                r = False\n",
    "        if (s < 1): print(\"bpa sous normalisee\")   \n",
    "        if (s > 1): print(\"bpa  somme > 1\")   \n",
    "        return r & ( s == 1)\n",
    "    \n",
    "# afficher des bpa     \n",
    "    def degreInc(self):\n",
    "        s = 0\n",
    "        for x in range(len(self.p)): \n",
    "            if (not(np.any(self.EF[x])) and self.p[x]>0):\n",
    "                s = s + self.p[x]           \n",
    "        return s\n",
    "    \n",
    "    def show(self): \n",
    "        s = 0\n",
    "        for x in range(len(self.EF)):\n",
    "            if (np.any(self.EF[x])):\n",
    "                print(self.p[x])\n",
    "                print(self.EF[x])\n",
    "            else:\n",
    "                s = s + self.p[x]\n",
    "                print(self.p[x])\n",
    "                print(self.EF[x])\n",
    "        if s > 0:\n",
    "            print(\"degre d incoherence \", s)\n",
    "            \n",
    "    def pignistic(self):\n",
    "        a =  np.zeros((n, m), float)\n",
    "        for x in range(len(self.EF)):\n",
    "            size =  np.count_nonzero(self.EF[x])\n",
    "            if size>0:\n",
    "                for i in range(n):\n",
    "                    for j in range( m  ):\n",
    "                        a[i][j] = a[i][j] + self.EF[x][i][j] / size\n",
    "        return a\n",
    "    \n",
    "def pigshow(b):\n",
    "       \n",
    "    if isinstance(b,bpa):\n",
    "        plt.xticks(np.arange(0, m, step=max(1,m//10)))\n",
    "        plt.yticks(np.arange(0, n, step=max(1,n//10)))\n",
    "        plt.imshow(b.pignistic(), interpolation='none', cmap='Greens')\n",
    "    else:\n",
    "        plt.xticks(np.arange(0, m, step=max(1,m//10)))\n",
    "        plt.yticks(np.arange(0, n, step=max(1,n//10)))\n",
    "        plt.imshow(b, interpolation='none', cmap='Blues')\n",
    "       \n",
    "    # for i in np.arange(m):\n",
    "    #     for j in np.arange(n):\n",
    "    #         plt.text( x=i, y=j, s=format(pig[j][i], '.2f'), color='black',\n",
    "    #           fontsize=8, wrap=False, horizontalalignment='center')\n",
    "    fig = plt.gcf()\n",
    "    # ax = fig.add_axes([0.85, 0.5, 0.04, 0.4])\n",
    "    # plt.colorbar( cax = ax )"
   ]
  },
  {
   "cell_type": "markdown",
   "metadata": {},
   "source": [
    "Un capteur (un capteur ligne par exemple, ou un capteur colonne) genere  une bpa.\n",
    "\n",
    "En particulier, la fonction $CapteurCol(col,prec.,fiab)$ modélise un capteur qui indique de la cible est en colonne $col$, avec une precision de + ou - $prec$ (les autres colonnes etant exclues) et une fiabilité de $fiab$: elle genere une bpa à deux element focaux: la colonne $col$, de poids $fiab$,  et l'ensemble des $prec$ colonnes à gauche et à droite de cette colonne, de poids $1 - fiab$. \n",
    "\n",
    "De même, $CapteurLigne(lin,prec.,fiab)$  modélise un capteur qui indique de la cible est en ligne $lin$, avec une precision de + ou - $prec$ et $CapteurPoint(l, c, marge, fiab)$  modélise un capteur qui indique de la cible est en au point (l,c), avec une precision de + ou - $marge$  et une fiabilité de $fiab$"
   ]
  },
  {
   "cell_type": "code",
   "execution_count": 96,
   "metadata": {},
   "outputs": [],
   "source": [
    "# la creation de bpa correspondant à des capteurs       \n",
    "\n",
    "class   CapteurPoint(bpa):\n",
    "    \n",
    "    def   __init__(self,l, c, marge, fiab):\n",
    "        super().__init__()\n",
    "        self.addAutourEF(l,c,0,fiab)\n",
    "        self.addAutourEF(l,c, marge, 1 - fiab)\n",
    "        \n",
    "    def   __init__(self,l, c, fiab):\n",
    "        super().__init__()\n",
    "        self.addAutourEF(l,c,0,fiab)\n",
    "        self.addFullGridEF( 1 - fiab)\n",
    "        \n",
    "class   CapteurLigne(bpa):\n",
    "    \n",
    "    def   __init__(self, l, marge, fiab):\n",
    "        super().__init__()\n",
    "        self.addLineEF(l,fiab)\n",
    "        self.addLinesEF(l, marge, 1 - fiab)\n",
    "        \n",
    "class   CapteurCol(bpa):\n",
    "    \n",
    "    def   __init__(self, c, marge, fiab):\n",
    "        super().__init__()\n",
    "        self.addColEF(c,fiab)\n",
    "        self.addColsEF(c, marge, 1 - fiab)\n",
    "        \n",
    "class   CapteurFoo(bpa):\n",
    "    def   __init__(self):\n",
    "        super().__init__()\n",
    "        self.addFullGridEF(1)\n",
    "        \n",
    "class   CapteurColFull(CapteurCol):       \n",
    "    \n",
    "    def   __init__(self, c, marge, fiab):\n",
    "        super().__init__(c, marge, fiab)\n",
    "        self.p[1] = self.p[1] / 2\n",
    "        p_restant = 1 - self.p[1] - self.p[0]\n",
    "        marg = marge * 2\n",
    "        \n",
    "\n",
    "        while ( (c + marg < m) and (c- marg > 0)):\n",
    "            self.addColsEF(c, marg, p_restant / 2)\n",
    "            marg = marg * 2\n",
    "            p_restant = p_restant - (p_restant / 2)\n",
    "        \n",
    "        self.addFullGridEF(p_restant)\n",
    "        \n",
    "\n",
    "\n",
    "class   CapteurLigneFull(CapteurLigne):       \n",
    "    \n",
    "    def   __init__(self, l, marge, fiab):\n",
    "        super().__init__(l, marge, fiab)\n",
    "        self.p[1] = self.p[1] / 2\n",
    "        p_restant = 1 - self.p[1] - self.p[0]\n",
    "        marg = marge * 2\n",
    "        \n",
    "\n",
    "        while ( (l + marg < n) and (l- marg > 0)):\n",
    "            self.addColsEF(l, marg, p_restant / 2)\n",
    "            marg = marg * 2\n",
    "            p_restant = p_restant - (p_restant / 2)\n",
    "        \n",
    "        self.addFullGridEF(p_restant)    "
   ]
  },
  {
   "cell_type": "markdown",
   "metadata": {},
   "source": [
    "# 1. Prise en main\n",
    "\n",
    "le code qui suit travaille sur des grilles 10 lignes et 7 colonnes.\n",
    "Explorer les deux bpa X et Y crees \n",
    "\n",
    "Combien X contient d'element focaux ? la bpa est elle normalisée ?\n",
    "\n",
    "Afficher la grille A\n",
    "\n",
    "\n"
   ]
  },
  {
   "cell_type": "code",
   "execution_count": 97,
   "metadata": {},
   "outputs": [],
   "source": [
    "def build_heatmap(data, ax=None, cbar_kw=None, cbarlabel=\"\", **kwargs):\n",
    "    \"\"\"\n",
    "    Create a heatmap from a numpy array and two lists of labels.\n",
    "\n",
    "    Parameters\n",
    "    ----------\n",
    "    data\n",
    "        A 2D numpy array of shape (M, N).\n",
    "    ax\n",
    "        A `matplotlib.axes.Axes` instance to which the heatmap is plotted.  If\n",
    "        not provided, use current axes or create a new one.  Optional.\n",
    "    cbar_kw\n",
    "        A dictionary with arguments to `matplotlib.Figure.colorbar`.  Optional.\n",
    "    cbarlabel\n",
    "        The label for the colorbar.  Optional.\n",
    "    **kwargs\n",
    "        All other arguments are forwarded to `imshow`.\n",
    "    \"\"\"\n",
    "\n",
    "    if ax is None:\n",
    "        ax = plt.gca()\n",
    "\n",
    "    if cbar_kw is None:\n",
    "        cbar_kw = {}\n",
    "\n",
    "    # Plot the heatmap\n",
    "    im = ax.imshow(data, **kwargs)\n",
    "\n",
    "    # Create colorbar\n",
    "    cbar = ax.figure.colorbar(im, ax=ax, **cbar_kw)\n",
    "    cbar.ax.set_ylabel(cbarlabel, rotation=-90, va=\"bottom\")\n",
    "\n",
    "    # Show all ticks and label them with the respective list entries.\n",
    "    ax.set_xticks(np.arange(data.shape[1]))\n",
    "    ax.set_yticks(np.arange(data.shape[0]))\n",
    "\n",
    "    # Let the horizontal axes labeling appear on top.\n",
    "    ax.tick_params(top=True, bottom=False,\n",
    "                   labeltop=True, labelbottom=False)\n",
    "\n",
    "    # Rotate the tick labels and set their alignment.\n",
    "    plt.setp(ax.get_xticklabels(), rotation=-30, ha=\"right\",\n",
    "             rotation_mode=\"anchor\")\n",
    "\n",
    "    # Turn spines off and create white grid.\n",
    "    ax.spines[:].set_visible(False)\n",
    "\n",
    "    ax.set_xticks(np.arange(data.shape[1]+1)-.5, minor=True)\n",
    "    ax.set_yticks(np.arange(data.shape[0]+1)-.5, minor=True)\n",
    "    ax.grid(which=\"minor\", color=\"w\", linestyle='-', linewidth=3)\n",
    "    ax.tick_params(which=\"minor\", bottom=False, left=False)\n",
    "\n",
    "    return im, cbar\n",
    "\n",
    "\n",
    "def annotate_heatmap(im, data=None, valfmt=\"{x:.2f}\", textcolors=(\"black\", \"white\"), threshold=None, **textkw):\n",
    "    \"\"\"\n",
    "    A function to annotate a heatmap.\n",
    "\n",
    "    Parameters\n",
    "    ----------\n",
    "    im\n",
    "        The AxesImage to be labeled.\n",
    "    data\n",
    "        Data used to annotate.  If None, the image's data is used.  Optional.\n",
    "    valfmt\n",
    "        The format of the annotations inside the heatmap.  This should either\n",
    "        use the string format method, e.g. \"$ {x:.2f}\", or be a\n",
    "        `matplotlib.ticker.Formatter`.  Optional.\n",
    "    textcolors\n",
    "        A pair of colors.  The first is used for values below a threshold,\n",
    "        the second for those above.  Optional.\n",
    "    threshold\n",
    "        Value in data units according to which the colors from textcolors are\n",
    "        applied.  If None (the default) uses the middle of the colormap as\n",
    "        separation.  Optional.\n",
    "    **kwargs\n",
    "        All other arguments are forwarded to each call to `text` used to create\n",
    "        the text labels.\n",
    "    \"\"\"\n",
    "\n",
    "    if not isinstance(data, (list, np.ndarray)):\n",
    "        data = im.get_array()\n",
    "\n",
    "    # Normalize the threshold to the images color range.\n",
    "    if threshold is not None:\n",
    "        threshold = im.norm(threshold)\n",
    "    else:\n",
    "        threshold = im.norm(data.max())/2.\n",
    "\n",
    "    # Set default alignment to center, but allow it to be\n",
    "    # overwritten by textkw.\n",
    "    kw = dict(horizontalalignment=\"center\",\n",
    "              verticalalignment=\"center\")\n",
    "    kw.update(textkw)\n",
    "\n",
    "    # Get the formatter in case a string is supplied\n",
    "    if isinstance(valfmt, str):\n",
    "        valfmt = matplotlib.ticker.StrMethodFormatter(valfmt)\n",
    "\n",
    "    # Loop over the data and create a `Text` for each \"pixel\".\n",
    "    # Change the text's color depending on the data.\n",
    "    texts = []\n",
    "    for i in range(data.shape[0]):\n",
    "        for j in range(data.shape[1]):\n",
    "            kw.update(color=textcolors[int(im.norm(data[i, j]) > threshold)])\n",
    "            text = im.axes.text(j, i, valfmt(data[i, j], None), **kw)\n",
    "            texts.append(text)\n",
    "\n",
    "    return texts\n",
    "\n",
    "def display_heatmap(matrix):\n",
    "    fig, ax = plt.subplots()\n",
    "\n",
    "    im, cbar = build_heatmap(matrix, ax=ax, cmap=\"Blues\")\n",
    "    texts = annotate_heatmap(im)\n",
    "\n",
    "    fig.tight_layout()\n",
    "    plt.show()"
   ]
  },
  {
   "cell_type": "code",
   "execution_count": 100,
   "metadata": {},
   "outputs": [
    {
     "data": {
      "image/png": "[encoded data removed]",
      "text/plain": [
       "<Figure size 640x480 with 2 Axes>"
      ]
     },
     "metadata": {},
     "output_type": "display_data"
    }
   ],
   "source": [
    "n = 10\n",
    "m = 7\n",
    "\n",
    "X = CapteurCol(3,1,0.9)\n",
    "Y = CapteurLigne(2,1,0.9)\n",
    "\n",
    "# X.show()\n",
    "# pigshow(X)\n",
    "\n",
    "A = zone(2,2,4,4)\n",
    "display_heatmap(A)"
   ]
  },
  {
   "cell_type": "code",
   "execution_count": 106,
   "metadata": {},
   "outputs": [
    {
     "data": {
      "text/plain": [
       "[array([[False, False, False,  True, False, False, False],\n",
       "        [False, False, False,  True, False, False, False],\n",
       "        [False, False, False,  True, False, False, False],\n",
       "        [False, False, False,  True, False, False, False],\n",
       "        [False, False, False,  True, False, False, False],\n",
       "        [False, False, False,  True, False, False, False],\n",
       "        [False, False, False,  True, False, False, False],\n",
       "        [False, False, False,  True, False, False, False],\n",
       "        [False, False, False,  True, False, False, False],\n",
       "        [False, False, False,  True, False, False, False]]),\n",
       " array([[False, False,  True,  True,  True, False, False],\n",
       "        [False, False,  True,  True,  True, False, False],\n",
       "        [False, False,  True,  True,  True, False, False],\n",
       "        [False, False,  True,  True,  True, False, False],\n",
       "        [False, False,  True,  True,  True, False, False],\n",
       "        [False, False,  True,  True,  True, False, False],\n",
       "        [False, False,  True,  True,  True, False, False],\n",
       "        [False, False,  True,  True,  True, False, False],\n",
       "        [False, False,  True,  True,  True, False, False],\n",
       "        [False, False,  True,  True,  True, False, False]])]"
      ]
     },
     "execution_count": 106,
     "metadata": {},
     "output_type": "execute_result"
    },
    {
     "data": {
      "image/png": "[encoded data removed]",
      "text/plain": [
       "<Figure size 640x480 with 1 Axes>"
      ]
     },
     "metadata": {},
     "output_type": "display_data"
    }
   ],
   "source": [
    "pigshow(X)\n",
    "X.EF"
   ]
  },
  {
   "cell_type": "code",
   "execution_count": null,
   "metadata": {},
   "outputs": [
    {
     "data": {
      "image/png": "[encoded data removed]",
      "text/plain": [
       "<Figure size 640x480 with 1 Axes>"
      ]
     },
     "metadata": {},
     "output_type": "display_data"
    }
   ],
   "source": [
    "pigshow(Y)"
   ]
  },
  {
   "cell_type": "markdown",
   "metadata": {},
   "source": [
    "# TODO  1:\n",
    "\n",
    "Implementer les fonctions Bel(bpa: m, grille: a), Pl(bpa: m, grille: a) - calculer par exemple Bel(X,A), Pl(X,A), Bel(Y,A) et Pl(Y,A) pour les   bpa  et la grille precedentes\n"
   ]
  },
  {
   "cell_type": "code",
   "execution_count": 116,
   "metadata": {},
   "outputs": [],
   "source": [
    "def bel(b, a):\n",
    "    return np.sum([b.p[x] for x in range(len(b.EF)) if np.all(np.less_equal(b.EF[x], a))])\n",
    "\n",
    "def pl(b, a):\n",
    "    return np.sum([b.p[x] for x in range(len(b.EF)) if np.any(np.logical_and(b.EF[x], a))])"
   ]
  },
  {
   "cell_type": "code",
   "execution_count": 117,
   "metadata": {},
   "outputs": [
    {
     "name": "stdout",
     "output_type": "stream",
     "text": [
      "0.0\n",
      "1.0\n"
     ]
    }
   ],
   "source": [
    "print(bel(X,A))\n",
    "print(pl(X,A))"
   ]
  },
  {
   "cell_type": "markdown",
   "metadata": {},
   "source": [
    "# TODO 2:\n",
    "\n",
    "Implementer la fonction fusion(bpa: m1, bpa: m2) qui rend la bpa obtenue en fusionnant m1 et m2 par la regle de Dempster. Calculer par exemple Z = fusion(X,Y) et Bel(Z,A)"
   ]
  },
  {
   "cell_type": "code",
   "execution_count": 118,
   "metadata": {},
   "outputs": [],
   "source": [
    "def fusion(a,b):\n",
    "    c = bpa()\n",
    "    for i in range(len(a.EF)):\n",
    "        for j in range(len(b.EF)):\n",
    "            c.EF.append(np.logical_and(a.EF[i], b.EF[j]))\n",
    "            c.p.append(a.p[i] * b.p[j])\n",
    "    return c"
   ]
  },
  {
   "cell_type": "code",
   "execution_count": 119,
   "metadata": {},
   "outputs": [
    {
     "data": {
      "text/plain": [
       "0.9"
      ]
     },
     "execution_count": 119,
     "metadata": {},
     "output_type": "execute_result"
    },
    {
     "data": {
      "image/png": "[encoded data removed]",
      "text/plain": [
       "<Figure size 640x480 with 1 Axes>"
      ]
     },
     "metadata": {},
     "output_type": "display_data"
    }
   ],
   "source": [
    "Z=fusion(X,Y)\n",
    "pigshow(Z)\n",
    "bel(Z,A)"
   ]
  },
  {
   "cell_type": "markdown",
   "metadata": {},
   "source": [
    "# TODO 3:\n",
    "\n",
    "Les classes ci dessous fournissent des modeles de capteurs un peu plus perfectionnés. Imaginer un protocole de test qui mesure la complexité (en temps, en espace) de la fusion en fonction du nombre de bpa à fusionner (ou un nombre de ses elements focaux). Voici ci dessous un protocole de test assez naif\n",
    "\n"
   ]
  },
  {
   "cell_type": "code",
   "execution_count": 120,
   "metadata": {},
   "outputs": [],
   "source": [
    "def test(iter:int):\n",
    "    x = CapteurFoo()\n",
    "    marge=3\n",
    "    fiab=0.2\n",
    "    for i in range(iter):\n",
    "        z=CapteurColFull(i,marge,fiab)\n",
    "        x=fusion(x,z)\n",
    "        print(len(x.EF), x.size())"
   ]
  },
  {
   "cell_type": "code",
   "execution_count": 121,
   "metadata": {},
   "outputs": [
    {
     "name": "stdout",
     "output_type": "stream",
     "text": [
      "3 682\n",
      "9 1966\n",
      "27 5658\n",
      "81 16830\n",
      "243 50314\n",
      "729 150478\n",
      "2187 451258\n",
      "6561 1352158\n",
      "19683 4070250\n",
      "59049 12191662\n",
      "177147 36518682\n",
      "531441 109913630\n"
     ]
    }
   ],
   "source": [
    "test(12)"
   ]
  },
  {
   "cell_type": "markdown",
   "metadata": {},
   "source": [
    "# TODO 4\n",
    "\n",
    "En supposant que le cout d'une mission sur une zone est egal à cout(zone) =  fixe  + (size(zone) fixe / 2), et rapporte  gain (par exemple avec fixe = 100 et gain = 1000), \n",
    "implementer la fonction qui calcule l'utilité pessimiste de l'envoi d une mission sur une zone:\n",
    "    \n",
    "upes(nd.array,gain,fixe)"
   ]
  },
  {
   "cell_type": "code",
   "execution_count": null,
   "metadata": {},
   "outputs": [],
   "source": []
  }
 ],
 "metadata": {
  "kernelspec": {
   "display_name": "Python 3",
   "language": "python",
   "name": "python3"
  },
  "language_info": {
   "codemirror_mode": {
    "name": "ipython",
    "version": 3
   },
   "file_extension": ".py",
   "mimetype": "text/x-python",
   "name": "python",
   "nbconvert_exporter": "python",
   "pygments_lexer": "ipython3",
   "version": "3.11.5"
  }
 },
 "nbformat": 4,
 "nbformat_minor": 4
}
