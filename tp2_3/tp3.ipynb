{
 "cells": [
  {
   "cell_type": "markdown",
   "metadata": {
    "collapsed": true,
    "jupyter": {
     "outputs_hidden": true
    }
   },
   "source": [
    "This  exercise uses the mdp tool box developped at INRAE\n",
    "    https://pymdptoolbox.readthedocs.io/en/latest/index.html\n",
    "        \n",
    "Install it (if not already installed) and import the toolbox and the examples"
   ]
  },
  {
   "cell_type": "code",
   "execution_count": 1,
   "metadata": {
    "collapsed": true,
    "jupyter": {
     "outputs_hidden": true
    }
   },
   "outputs": [],
   "source": [
    "import mdptoolbox, mdptoolbox.example, mdptoolbox.util\n",
    "import numpy as np"
   ]
  },
  {
   "cell_type": "markdown",
   "metadata": {},
   "source": [
    "# The Cleaning Robot"
   ]
  },
  {
   "cell_type": "markdown",
   "metadata": {},
   "source": [
    "Dead line : 1 st of december for both groups (note book + report describing your mdp, including a drawing)\n",
    "\n",
    "Consider a house-cleaning robot. It can be either in the living room or at its charging station - or out  of battery. The living room can be clean or dirty. So there are five states: LD(in the living room, dirty), LC(in the living room, clean), CD(at the charger, dirty), CC(at the charger, clean), O (out of power).\n",
    "\n",
    "\n",
    "####  \n",
    "When in the living room,    the robot  can either choose to clean or to charge. \n",
    "\n",
    "When in the charging station, the robot can either choose to clean or to keep charging.\n",
    "\n",
    "When out of power, any of the two actions (clean, charge) leads to the same results: staying out of power\n",
    "\n",
    "####  \n",
    "\n",
    "The reward for being  in a clean state is rc \n",
    "\n",
    "The reward for being in a dirty state is rd < rc at each time step\n",
    "\n",
    "The reward for being out of power is  costcrash  -  lower or equal to rd ; let us set it equal to rd  (the living rooms becomes dirty anyway)\n",
    " \n",
    "\n",
    "####  \n",
    "\n",
    "When  the robot decides to  clean,\n",
    "*  if it is in the living room, then it may become out of power with proba e\n",
    "*  if it is in the charging station, no risk of running out of power   \n",
    "*  cleaning a clean floor leaves it clean\n",
    "*  cleaning a dirty floor can sometimes fail (even is battery is ok) - let eps be the probability of fail of the cleaning\n",
    "     \n",
    "When  the robot decides to  charge,  action charge always takes the robot to the charging station. The  dirtiness of the room can go from clean to dirty with a probability  pDust  and it stays for sure at the dirty level if dirty\n"
   ]
  },
  {
   "cell_type": "markdown",
   "metadata": {},
   "source": [
    "\n",
    "#### Goal\n",
    "\n",
    "Model the problem by a (infinite horizon) MDP (describe your model in details) "
   ]
  },
  {
   "cell_type": "code",
   "execution_count": null,
   "metadata": {
    "collapsed": true,
    "jupyter": {
     "outputs_hidden": true
    }
   },
   "outputs": [],
   "source": [
    "rd = 1 # Reward Dirty\n",
    "rc = 2 # Reward Clean\n",
    "cc = rd # Cost Crash\n",
    "\n",
    "# Probabilities \n",
    "e = 0.05\n",
    "eps = 0.2\n",
    "pDust = 0.3\n",
    "\n",
    "P = np.array([[[]\n",
    "                ]                        \n",
    "                ]\n",
    ")\n",
    "\n",
    "R = np.array([[rd, rd]\n",
    "              [rd, rd]\n",
    "              [rc, rc]\n",
    "              [rc, rc]\n",
    "              [cc, cc]])"
   ]
  },
  {
   "cell_type": "markdown",
   "metadata": {},
   "source": [
    "Determine the best policy.\n",
    "\n",
    "* When the probability of runing out of battery is high\n",
    "* When it is low\n",
    "\n",
    "(explain the results)"
   ]
  },
  {
   "cell_type": "code",
   "execution_count": null,
   "metadata": {
    "collapsed": true,
    "jupyter": {
     "outputs_hidden": true
    }
   },
   "outputs": [],
   "source": []
  },
  {
   "cell_type": "markdown",
   "metadata": {},
   "source": [
    "What policy is choosen if  the robot has a very good battery\n",
    "(i.e. the probability of being out  of charge is very low) ? \n",
    "\n",
    "What policy is choosen if the  living room gets dirty   quickly \n",
    "(i.e.  pdust increases) ? \n",
    "\n",
    "\n",
    "When e=0.1 does the best policy depend of rc ? of pDust?  \n",
    "\n",
    "What if costcrash  is independent of rd?"
   ]
  },
  {
   "cell_type": "code",
   "execution_count": null,
   "metadata": {
    "collapsed": true,
    "jupyter": {
     "outputs_hidden": true
    }
   },
   "outputs": [],
   "source": []
  },
  {
   "cell_type": "markdown",
   "metadata": {},
   "source": [
    " \n",
    "\n",
    "\n",
    "\n",
    "\n",
    "Paste your python program here:\n"
   ]
  },
  {
   "cell_type": "code",
   "execution_count": null,
   "metadata": {
    "collapsed": true,
    "jupyter": {
     "outputs_hidden": true
    }
   },
   "outputs": [],
   "source": []
  },
  {
   "cell_type": "markdown",
   "metadata": {},
   "source": [
    "\n",
    "Optional: extend your program so as to take into consideration several levels of battery (high, medium, low, very low for instance)"
   ]
  },
  {
   "cell_type": "code",
   "execution_count": null,
   "metadata": {
    "collapsed": true,
    "jupyter": {
     "outputs_hidden": true
    }
   },
   "outputs": [],
   "source": []
  }
 ],
 "metadata": {
  "kernelspec": {
   "display_name": "Python 3",
   "language": "python",
   "name": "python3"
  },
  "language_info": {
   "codemirror_mode": {
    "name": "ipython",
    "version": 3
   },
   "file_extension": ".py",
   "mimetype": "text/x-python",
   "name": "python",
   "nbconvert_exporter": "python",
   "pygments_lexer": "ipython3",
   "version": "3.11.5"
  }
 },
 "nbformat": 4,
 "nbformat_minor": 4
}
